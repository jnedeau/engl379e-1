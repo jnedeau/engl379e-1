{
 "cells": [
  {
   "cell_type": "code",
   "execution_count": 14,
   "metadata": {
    "collapsed": true
   },
   "outputs": [],
   "source": [
    "#TO BEGIN, YOU NEED TO DOWNLOAD EACH OF THE FILES IN THE \"Classwork May 2017\" folder in the \"Files\" section of CANVAS\n",
    "#You need to store these files in the same directory that your \"Anaconda\" package lives in. For me (on my Macbook Air)\n",
    "#That's the top level directory named \"kariKraus\". So I copied each of my text files over to that top directory\n",
    "#(but *not* in the Anaconda folder itself): \n",
    "#karikraus--> anaconda (folder)\n",
    "#karikraus --> gutenberg_leaves_of_grass.txt\n",
    "#karikraus--> pride_and_prejudice_.txt\n",
    "\n",
    "#Now you're ready to begin programming"
   ]
  },
  {
   "cell_type": "code",
   "execution_count": null,
   "metadata": {
    "collapsed": true
   },
   "outputs": [],
   "source": [
    "source = open('straka_chapter.txt')\n",
    "straka = source.read()\n",
    "print straka[:1000]"
   ]
  },
  {
   "cell_type": "code",
   "execution_count": 7,
   "metadata": {
    "collapsed": true
   },
   "outputs": [],
   "source": [
    "import re"
   ]
  },
  {
   "cell_type": "code",
   "execution_count": 5,
   "metadata": {
    "collapsed": true
   },
   "outputs": [],
   "source": [
    "def prep(text):\n",
    "    return re.sub('\\W+', '', text)"
   ]
  },
  {
   "cell_type": "code",
   "execution_count": 3,
   "metadata": {
    "collapsed": true
   },
   "outputs": [],
   "source": [
    "def pal(word):\n",
    "    return word.lower() == word[::-1].lower()"
   ]
  },
  {
   "cell_type": "code",
   "execution_count": null,
   "metadata": {
    "collapsed": true
   },
   "outputs": [],
   "source": [
    "pal(prep(straka))"
   ]
  },
  {
   "cell_type": "code",
   "execution_count": 12,
   "metadata": {
    "collapsed": true
   },
   "outputs": [],
   "source": [
    "def palmulti(name):\n",
    "    result = ''\n",
    "    names = name.split()\n",
    "    for word in names:\n",
    "        wordrevised = re.sub('\\W+', '', word)\n",
    "        if wordrevised == 'Ss':\n",
    "            result = result\n",
    "        elif len(wordrevised) == 1:\n",
    "            result = result\n",
    "        elif wordrevised.lower() == 'did':\n",
    "            result = result\n",
    "        elif wordrevised.lower() == wordrevised[::-1].lower():\n",
    "            result = result + ' ' + wordrevised\n",
    "    return result"
   ]
  },
  {
   "cell_type": "code",
   "execution_count": null,
   "metadata": {
    "collapsed": false
   },
   "outputs": [],
   "source": [
    "palmulti(straka)"
   ]
  },
  {
   "cell_type": "code",
   "execution_count": 15,
   "metadata": {
    "collapsed": true
   },
   "outputs": [],
   "source": [
    "#REPEAT THE ABOVE, USING THE \"PALINDROMEPOEM\" FILE. BE SURE TO CHANGE THE FILE NAME FOR EACH FUNCTION YOU INVOKE\n",
    "#FOR EXAMPLE, \"STRAKA_CHAPTER\" SHOULD NOW BE REPLACED BY \"PALINDROMEPOEM\""
   ]
  },
  {
   "cell_type": "code",
   "execution_count": null,
   "metadata": {
    "collapsed": true
   },
   "outputs": [],
   "source": [
    "#PART 2"
   ]
  },
  {
   "cell_type": "code",
   "execution_count": null,
   "metadata": {
    "collapsed": true
   },
   "outputs": [],
   "source": [
    "#USING YOUR TEXT EDITOR (NOT YOUR IPYTHON NOTEBOOK), OPEN THE \"STRAKA_CHAPTER\" FILE. DO A SEARCH ON THE WORD \"YOU\",\n",
    "#BEING SURE TO CHECK THE \"entire word\" search option for your text editor. Take note of how many hits you get on\n",
    "#on that word (jotting it down). Once you've done that, do a regular expression search on the word \"you\"\n",
    "#that only searches for its appearance outside of any quotation marks. You should check the \"regular expression\" option\n",
    "#for your text editor (in Text Wrangler, it's \"Grep\". Be sure to also select the \"entire word\" option.)\n",
    "#Here's the regular expression you should copy-and-paste: (?!\\B\"[^\"]*)you(?![^\"]*\"\\B)\n",
    "#Once again, take note of the number of hits you get, comparing it to your previous number. Now repeat this exercise\n",
    "#for each of the other alternative chapter 10 ending files that you downloaded from CANVAS."
   ]
  }
 ],
 "metadata": {
  "anaconda-cloud": {},
  "kernelspec": {
   "display_name": "Python [default]",
   "language": "python",
   "name": "python2"
  },
  "language_info": {
   "codemirror_mode": {
    "name": "ipython",
    "version": 2
   },
   "file_extension": ".py",
   "mimetype": "text/x-python",
   "name": "python",
   "nbconvert_exporter": "python",
   "pygments_lexer": "ipython2",
   "version": "2.7.12"
  }
 },
 "nbformat": 4,
 "nbformat_minor": 1
}
