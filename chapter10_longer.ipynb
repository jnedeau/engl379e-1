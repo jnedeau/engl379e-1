{
 "cells": [
  {
   "cell_type": "code",
   "execution_count": 28,
   "metadata": {
    "collapsed": true
   },
   "outputs": [],
   "source": [
    "from textblob import TextBlob"
   ]
  },
  {
   "cell_type": "code",
   "execution_count": null,
   "metadata": {
    "collapsed": true
   },
   "outputs": [],
   "source": [
    "TextBlob('This movie was a great experience, and not disappointing.').sentiment"
   ]
  },
  {
   "cell_type": "code",
   "execution_count": null,
   "metadata": {
    "collapsed": true
   },
   "outputs": [],
   "source": [
    "TextBlob('This movie was not a great experience, and disappointing.').sentiment"
   ]
  },
  {
   "cell_type": "code",
   "execution_count": null,
   "metadata": {
    "collapsed": true
   },
   "outputs": [],
   "source": [
    "#Try writing the happiest, sunniest, bubbliest, most cheerful and exuberant sentence\n",
    "#you can to test. Then try writing the saddest, most heartbreaking, miserable, and wretched\n",
    "#sentence you can. Finally, try a Goldlilocks sentence that is right in the middle. See\n",
    "#if through this method you can begin to get a feel for what the different polarity scores\n",
    "#mean. Do a similar exercise for testing subjectivity. You might try different sentences\n",
    "#written in the subjunctive mood versus the indicative mood to see how that affects\n",
    "#subjectivity. Or sentences with unicorns and mythological creatures versus empirical\n",
    "#fact-based sentences. Again, try to begin to internalize what the different percentages mean."
   ]
  },
  {
   "cell_type": "code",
   "execution_count": null,
   "metadata": {
    "collapsed": true
   },
   "outputs": [],
   "source": [
    "blob = TextBlob(open(\"palindromepoem.txt\").read())\n",
    "for item in blob.sentences:\n",
    "    if item.sentiment.polarity > 0:\n",
    "        print item.replace('\\n', ' ')"
   ]
  },
  {
   "cell_type": "code",
   "execution_count": null,
   "metadata": {
    "collapsed": false
   },
   "outputs": [],
   "source": []
  },
  {
   "cell_type": "code",
   "execution_count": 52,
   "metadata": {
    "collapsed": false
   },
   "outputs": [],
   "source": [
    "from textblob import TextBlob\n",
    "blob = TextBlob(open(\"straka_chapter.txt\").read().decode('ascii', errors=\"replace\"))"
   ]
  },
  {
   "cell_type": "code",
   "execution_count": null,
   "metadata": {
    "collapsed": true
   },
   "outputs": [],
   "source": [
    "for item in blob.sentences:\n",
    "    if item.sentiment.polarity > 0:\n",
    "        print item.replace('\\n', ' ')"
   ]
  },
  {
   "cell_type": "code",
   "execution_count": null,
   "metadata": {
    "collapsed": false
   },
   "outputs": [],
   "source": [
    "#Try the above, but altering the second line of code to find the most negative sentences."
   ]
  },
  {
   "cell_type": "code",
   "execution_count": null,
   "metadata": {
    "collapsed": true
   },
   "outputs": [],
   "source": [
    "#Repeat above for each of the chapter ten alternative endings."
   ]
  },
  {
   "cell_type": "code",
   "execution_count": null,
   "metadata": {
    "collapsed": false
   },
   "outputs": [],
   "source": [
    "#If you have time to continue to explore, there's a great tutorial on using TextBlob here:\n",
    "#http://rwet.decontextualize.com/book/textblob/ (By Allison Parrish)"
   ]
  },
  {
   "cell_type": "code",
   "execution_count": null,
   "metadata": {
    "collapsed": false
   },
   "outputs": [],
   "source": []
  },
  {
   "cell_type": "code",
   "execution_count": null,
   "metadata": {
    "collapsed": true
   },
   "outputs": [],
   "source": [
    "#Function to determine the percentage of sentences in a given text\n",
    "#that have a negative polarity score (i.e., negative emotional valence)"
   ]
  },
  {
   "cell_type": "code",
   "execution_count": 3,
   "metadata": {
    "collapsed": false
   },
   "outputs": [],
   "source": [
    "def ratio(sequence):\n",
    "    total = 0\n",
    "    for item in sequence.sentences:\n",
    "        if item.sentiment.polarity < 0:\n",
    "            total = total +1\n",
    "    ratio = (float(total) / (len)(sequence.sentences)) * 100\n",
    "    print ratio"
   ]
  },
  {
   "cell_type": "code",
   "execution_count": 1,
   "metadata": {
    "collapsed": false
   },
   "outputs": [],
   "source": [
    "from textblob import TextBlob\n",
    "blob = TextBlob(open(\"straka_chapter.txt\").read().decode('ascii', errors=\"replace\"))"
   ]
  },
  {
   "cell_type": "code",
   "execution_count": 4,
   "metadata": {
    "collapsed": false
   },
   "outputs": [
    {
     "name": "stdout",
     "output_type": "stream",
     "text": [
      "23.3050847458\n"
     ]
    }
   ],
   "source": [
    "ratio(blob)"
   ]
  },
  {
   "cell_type": "code",
   "execution_count": 5,
   "metadata": {
    "collapsed": true
   },
   "outputs": [],
   "source": [
    "def ratio(sequence):\n",
    "    total = 0\n",
    "    for item in sequence.sentences:\n",
    "        if item.sentiment.polarity > .7:\n",
    "            total = total +1\n",
    "    ratio = (float(total) / (len)(sequence.sentences)) * 100\n",
    "    print ratio"
   ]
  },
  {
   "cell_type": "code",
   "execution_count": 6,
   "metadata": {
    "collapsed": false
   },
   "outputs": [
    {
     "name": "stdout",
     "output_type": "stream",
     "text": [
      "0.0\n"
     ]
    }
   ],
   "source": [
    "ratio(blob)"
   ]
  },
  {
   "cell_type": "code",
   "execution_count": null,
   "metadata": {
    "collapsed": true
   },
   "outputs": [],
   "source": []
  }
 ],
 "metadata": {
  "kernelspec": {
   "display_name": "Python [default]",
   "language": "python",
   "name": "python2"
  },
  "language_info": {
   "codemirror_mode": {
    "name": "ipython",
    "version": 2
   },
   "file_extension": ".py",
   "mimetype": "text/x-python",
   "name": "python",
   "nbconvert_exporter": "python",
   "pygments_lexer": "ipython2",
   "version": "2.7.12"
  }
 },
 "nbformat": 4,
 "nbformat_minor": 1
}
